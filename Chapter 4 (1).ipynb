{
 "cells": [
  {
   "cell_type": "markdown",
   "metadata": {},
   "source": [
    "№2  a)Identify three operations that can be performed on both tuples and lists：slicing, concatination, indexing, length, max, min\n",
    "b)Identify three list operations that cannot be performed on tuples: reverse, sort, pop, append, insert, remove, clear\n",
    "c)Name a context where using a list instead of a tuple generates a Python error:hash\n"
   ]
  },
  {
   "cell_type": "markdown",
   "metadata": {},
   "source": [
    "№3 Find out how to create a tuple consisting of a single item. There are at least two ways to do this."
   ]
  },
  {
   "cell_type": "code",
   "execution_count": 2,
   "metadata": {},
   "outputs": [],
   "source": [
    "t_tuple = (\"apple\",)"
   ]
  },
  {
   "cell_type": "code",
   "execution_count": 3,
   "metadata": {},
   "outputs": [
    {
     "name": "stdout",
     "output_type": "stream",
     "text": [
      "('apple',)\n"
     ]
    }
   ],
   "source": [
    "print(t_tuple)"
   ]
  },
  {
   "cell_type": "code",
   "execution_count": 11,
   "metadata": {},
   "outputs": [
    {
     "name": "stdout",
     "output_type": "stream",
     "text": [
      "('apple',)\n"
     ]
    }
   ],
   "source": [
    "t_tuple1 = tuple(['apple'])\n",
    "print(t_tuple1)"
   ]
  },
  {
   "cell_type": "markdown",
   "metadata": {},
   "source": [
    "№4 Create a list words = ['is', 'NLP', 'fun', '?']. Use a series of assignment statements (e.g. words[1] = words[2]) and a temporary variable tmp to transform this list into the list ['NLP', 'is', 'fun', '!']. Now do the same transformation using tuple assignment."
   ]
  },
  {
   "cell_type": "code",
   "execution_count": 13,
   "metadata": {},
   "outputs": [
    {
     "data": {
      "text/plain": [
       "['NLP', 'is', 'fun', '!']"
      ]
     },
     "execution_count": 13,
     "metadata": {},
     "output_type": "execute_result"
    }
   ],
   "source": [
    "list_words = ['is', 'NLP', 'fun', '?']\n",
    "list_words[0], list_words[1] = list_words[1], list_words[0]\n",
    "list_words[3] = '!'\n",
    "list_words"
   ]
  },
  {
   "cell_type": "markdown",
   "metadata": {},
   "source": [
    "№5 Read about the built-in comparison function cmp, by typing help(cmp). How does it differ in behavior from the comparison operators?"
   ]
  },
  {
   "cell_type": "markdown",
   "metadata": {},
   "source": [
    "cmp() does not work in python 3.x\n",
    "\n",
    "cmp(...)\n",
    "    cmp(x, y) -> integer\n",
    "    \n",
    " Return negative if x<y, zero if x==y, positive if x>y."
   ]
  },
  {
   "cell_type": "code",
   "execution_count": 17,
   "metadata": {},
   "outputs": [
    {
     "data": {
      "text/plain": [
       "-1"
      ]
     },
     "execution_count": 17,
     "metadata": {},
     "output_type": "execute_result"
    }
   ],
   "source": [
    "def cmp(a, b):\n",
    "    return (a > b) - (a < b) \n",
    "a, b = 3,5\n",
    "cmp(a,b)"
   ]
  },
  {
   "cell_type": "markdown",
   "metadata": {},
   "source": [
    "№6 Does the method for creating a sliding window of n-grams behave correctly for the two limiting cases: n = 1, and n = len(sent)?"
   ]
  },
  {
   "cell_type": "code",
   "execution_count": 18,
   "metadata": {},
   "outputs": [
    {
     "data": {
      "text/plain": [
       "[['The'], ['dog'], ['gave'], ['John'], ['the'], ['newspaper']]"
      ]
     },
     "execution_count": 18,
     "metadata": {},
     "output_type": "execute_result"
    }
   ],
   "source": [
    " sent = ['The', 'dog', 'gave', 'John', 'the', 'newspaper']\n",
    "n = 1\n",
    "[sent[i:i+n] for i in range(len(sent)-n+1)]"
   ]
  },
  {
   "cell_type": "code",
   "execution_count": 19,
   "metadata": {},
   "outputs": [
    {
     "data": {
      "text/plain": [
       "[['The', 'dog', 'gave', 'John', 'the', 'newspaper']]"
      ]
     },
     "execution_count": 19,
     "metadata": {},
     "output_type": "execute_result"
    }
   ],
   "source": [
    "sent = ['The', 'dog', 'gave', 'John', 'the', 'newspaper']\n",
    "n = len(sent)\n",
    "[sent[i:i+n] for i in range(len(sent)-n+1)]"
   ]
  },
  {
   "cell_type": "markdown",
   "metadata": {},
   "source": [
    "№7 We pointed out that when empty strings and empty lists occur in the condition part of an if clause, they evaluate to False. In this case, they are said to be occurring in a Boolean context. Experiment with different kind of non-Boolean expressions in Boolean contexts, and see whether they evaluate as True or False."
   ]
  },
  {
   "cell_type": "code",
   "execution_count": 20,
   "metadata": {},
   "outputs": [
    {
     "name": "stdout",
     "output_type": "stream",
     "text": [
      "cat\n",
      "['dog']\n"
     ]
    }
   ],
   "source": [
    "mixed = ['cat', '', ['dog'], []]\n",
    "for element in mixed:\n",
    "    if element:\n",
    "        print(element)"
   ]
  },
  {
   "cell_type": "code",
   "execution_count": 34,
   "metadata": {},
   "outputs": [
    {
     "name": "stdout",
     "output_type": "stream",
     "text": [
      "True\n"
     ]
    }
   ],
   "source": [
    "mixed = ['cat', '', ['dog'], []]\n",
    "if 'cat' or ['cat'] in mixed:\n",
    "    print (True)"
   ]
  },
  {
   "cell_type": "code",
   "execution_count": 35,
   "metadata": {},
   "outputs": [],
   "source": [
    "mixed = ['cat', '', ['dog'], []]\n",
    "if 'cat' and ['cat'] in mixed:\n",
    "    print (True)"
   ]
  },
  {
   "cell_type": "markdown",
   "metadata": {},
   "source": [
    "＃8 Use the inequality operators to compare strings, e.g. 'Monty' < 'Python'. What happens when you do 'Z' < 'a'? Try pairs of strings which have a common prefix, e.g. 'Monty' < 'Montague'. Read up on \"lexicographical sort\" in order to understand what is going on here. Try comparing structured objects, e.g. ('Monty', 1) < ('Monty', 2). Does this behave as expected?\n"
   ]
  },
  {
   "cell_type": "code",
   "execution_count": 38,
   "metadata": {},
   "outputs": [
    {
     "data": {
      "text/plain": [
       "True"
      ]
     },
     "execution_count": 38,
     "metadata": {},
     "output_type": "execute_result"
    }
   ],
   "source": [
    "a = 'Monty'\n",
    "b = 'Python'\n",
    "a != b\n",
    "a < b"
   ]
  },
  {
   "cell_type": "code",
   "execution_count": 39,
   "metadata": {
    "scrolled": true
   },
   "outputs": [
    {
     "data": {
      "text/plain": [
       "True"
      ]
     },
     "execution_count": 39,
     "metadata": {},
     "output_type": "execute_result"
    }
   ],
   "source": [
    "'Z' < 'a'"
   ]
  },
  {
   "cell_type": "code",
   "execution_count": 40,
   "metadata": {},
   "outputs": [
    {
     "data": {
      "text/plain": [
       "False"
      ]
     },
     "execution_count": 40,
     "metadata": {},
     "output_type": "execute_result"
    }
   ],
   "source": [
    "'Monty' < 'Montague'"
   ]
  },
  {
   "cell_type": "code",
   "execution_count": 41,
   "metadata": {},
   "outputs": [
    {
     "data": {
      "text/plain": [
       "True"
      ]
     },
     "execution_count": 41,
     "metadata": {},
     "output_type": "execute_result"
    }
   ],
   "source": [
    "('Monty', 1) < ('Monty', 2)"
   ]
  },
  {
   "cell_type": "markdown",
   "metadata": {},
   "source": [
    "№9  Write code that removes whitespace at the beginning and end of a string, and normalizes whitespace between words to be a single space character.\n",
    "\n",
    "do this task using split() and join()\n",
    "do this task using regular expression substitutions\n",
    "*strip() method removes whitespace at the beginning and end (both sides) of a string."
   ]
  },
  {
   "cell_type": "code",
   "execution_count": 60,
   "metadata": {},
   "outputs": [
    {
     "name": "stdout",
     "output_type": "stream",
     "text": [
      "Write code that removes whitespace .\n"
     ]
    }
   ],
   "source": [
    "s1 = ' Write code   that removes  whitespace . '\n",
    "text = \" \".join(s.split())\n",
    "print(text)"
   ]
  },
  {
   "cell_type": "code",
   "execution_count": 111,
   "metadata": {},
   "outputs": [
    {
     "name": "stdout",
     "output_type": "stream",
     "text": [
      " Write code   that removes  whitespace . \n"
     ]
    }
   ],
   "source": [
    "import re\n",
    "s2 = ' Write code   that removes  whitespace . '\n",
    "text = re.sub(r'^\\s+\\s+$', \" \", s2)\n",
    "print(text)"
   ]
  },
  {
   "cell_type": "markdown",
   "metadata": {},
   "source": [
    "№10 Write a program to sort words by length. Define a helper function cmp_len which uses the cmp comparison function on word lengths."
   ]
  },
  {
   "cell_type": "code",
   "execution_count": 102,
   "metadata": {},
   "outputs": [
    {
     "data": {
      "text/plain": [
       "[(2, 'of'),\n",
       " (3, 'our'),\n",
       " (4, 'list'),\n",
       " (4, 'with'),\n",
       " (5, \"Let's\"),\n",
       " (5, 'these'),\n",
       " (5, 'three'),\n",
       " (6, 'types,'),\n",
       " (7, 'combine'),\n",
       " (8, 'sequence'),\n",
       " (8, 'together'),\n",
       " (9, 'knowledge'),\n",
       " (14, 'comprehensions')]"
      ]
     },
     "execution_count": 102,
     "metadata": {},
     "output_type": "execute_result"
    }
   ],
   "source": [
    "sent = \"Let's combine our knowledge of these three sequence types, together with list comprehensions\".split()\n",
    "wordlens =sorted([(len(word), word) for word in sent])\n",
    "wordlens"
   ]
  },
  {
   "cell_type": "markdown",
   "metadata": {},
   "source": [
    "№11 Create a list of words and store it in a variable sent1. Now assign sent2 = sent1. Modify one of the items in sent1 and verify that sent2 has changed.\n",
    "\n",
    "Now try the same exercise but instead assign sent2 = sent1[:]. Modify sent1 again and see what happens to sent2. Explain.\n",
    "Now define text1 to be a list of lists of strings (e.g. to represent a text consisting of multiple sentences. Now assign text2 = text1[:], assign a new value to one of the words, e.g. text1[1][1] = 'Monty'. Check what this did to text2. Explain.\n",
    "Load Python's deepcopy() function (i.e. from copy import deepcopy), consult its documentation, and test that it makes a fresh copy of any object."
   ]
  },
  {
   "cell_type": "code",
   "execution_count": 112,
   "metadata": {},
   "outputs": [
    {
     "name": "stdout",
     "output_type": "stream",
     "text": [
      "['a', 'to', 'by', 'sort', 'words', 'length', 'program', 'Now', 'try', 'the', 'same', 'exercise', 'but', 'instead', 'assig', 'orange']\n"
     ]
    }
   ],
   "source": [
    "sent1 = ['a', 'to', 'by', 'sort', 'words', 'length', 'program', 'Now', 'try', 'the', 'same', 'exercise', 'but', 'instead', 'assig']\n",
    "sent2 = sent1\n",
    "sent1.append(\"orange\")\n",
    "print(sent2)"
   ]
  },
  {
   "cell_type": "code",
   "execution_count": 113,
   "metadata": {},
   "outputs": [
    {
     "name": "stdout",
     "output_type": "stream",
     "text": [
      "['a', 'to', 'by', 'sort', 'words', 'length', 'program', 'Now', 'try', 'the', 'same', 'exercise', 'but', 'instead', 'assig', 'orange']\n"
     ]
    }
   ],
   "source": [
    "sent2 = sent1[:]\n",
    "sent1.append(\"banana\")\n",
    "print(sent2)"
   ]
  },
  {
   "cell_type": "markdown",
   "metadata": {},
   "source": [
    "[:] makes a copy of each element of sent1."
   ]
  },
  {
   "cell_type": "code",
   "execution_count": 118,
   "metadata": {},
   "outputs": [
    {
     "name": "stdout",
     "output_type": "stream",
     "text": [
      "[[['Value666']], ['Value421'], ['Value234']]\n"
     ]
    }
   ],
   "source": [
    "text1 = [[\"Value313\"],[\"Value421\"],[\"Value234\"]]\n",
    "text2 = text1[:]\n",
    "text1[0][0] = [\"Value666\"]\n",
    "print(text2)"
   ]
  },
  {
   "cell_type": "markdown",
   "metadata": {},
   "source": [
    "copy is just copy by value."
   ]
  },
  {
   "cell_type": "code",
   "execution_count": 119,
   "metadata": {},
   "outputs": [
    {
     "name": "stdout",
     "output_type": "stream",
     "text": [
      "Help on function deepcopy in module copy:\n",
      "\n",
      "deepcopy(x, memo=None, _nil=[])\n",
      "    Deep copy operation on arbitrary Python objects.\n",
      "    \n",
      "    See the module's __doc__ string for more info.\n",
      "\n"
     ]
    }
   ],
   "source": [
    "from copy import deepcopy\n",
    "help(deepcopy)"
   ]
  },
  {
   "cell_type": "code",
   "execution_count": 120,
   "metadata": {},
   "outputs": [
    {
     "name": "stdout",
     "output_type": "stream",
     "text": [
      "[['Value313'], ['Value421'], ['Value234']]\n"
     ]
    }
   ],
   "source": [
    "text1 = [[\"Value313\"],[\"Value421\"],[\"Value234\"]]\n",
    "text2 = deepcopy(text1)\n",
    "text1[0][0] = [\"Value666\"]\n",
    "print(text2)"
   ]
  },
  {
   "cell_type": "markdown",
   "metadata": {},
   "source": [
    "modification of sent1 doesn't affect sent2"
   ]
  },
  {
   "cell_type": "markdown",
   "metadata": {},
   "source": [
    "№12 Initialize an n-by-m list of lists of empty strings using list multiplication, e.g. word_table = [[''] * n] * m. What happens when you set one of its values, e.g. word_table[1][2] = \"hello\"? Explain why this happens. Now write an expression using range() to construct a list of lists, and show that it does not have this problem."
   ]
  },
  {
   "cell_type": "code",
   "execution_count": 122,
   "metadata": {},
   "outputs": [
    {
     "name": "stdout",
     "output_type": "stream",
     "text": [
      "[['', '', 'hello'], ['', '', 'hello'], ['', '', 'hello'], ['', '', 'hello']]\n"
     ]
    }
   ],
   "source": [
    "n,m = 3,4\n",
    "word_table = [[''] * n] * m\n",
    "word_table[1][2] = \"hello\"\n",
    "print(word_table)"
   ]
  },
  {
   "cell_type": "markdown",
   "metadata": {},
   "source": [
    " word_table is a list of lists.The multiplication(*m) just copy value 'hello'. The copy is value-copy, so the first two elements are not influenced."
   ]
  },
  {
   "cell_type": "code",
   "execution_count": 128,
   "metadata": {},
   "outputs": [
    {
     "name": "stdout",
     "output_type": "stream",
     "text": [
      "[[set(), set(), set()], [set(), set(), 'hello'], [set(), set(), set()], [set(), set(), set()]]\n"
     ]
    }
   ],
   "source": [
    "n,m = 3,4\n",
    "y = [[set() for i in range(n)] for j in range(m)]\n",
    "y[1][2]= \"hello\"    # y[1][2].add(\"hello\")\n",
    "print(y)"
   ]
  },
  {
   "cell_type": "markdown",
   "metadata": {},
   "source": [
    "№13 Write code to initialize a two-dimensional array of sets called word_vowels and process a list of words, adding each word to word_vowels[l][v] where l is the length of the word and v is the number of vowels it contains."
   ]
  },
  {
   "cell_type": "code",
   "execution_count": 217,
   "metadata": {},
   "outputs": [
    {
     "name": "stdout",
     "output_type": "stream",
     "text": [
      "[[set(), set(), set(), set(), set(), set(), set()], [set(), set(), set(), set(), set(), set(), set()], [set(), set(), set(), set(), set(), set(), set()], [set(), {'mad', 'cat'}, set(), set(), set(), set(), set()], [set(), {'song'}, {'Love'}, set(), set(), set(), set()], [set(), set(), {'apple'}, set(), set(), set(), set()], [set(), set(), {'laptop'}, set(), set(), set(), set()]]\n"
     ]
    }
   ],
   "source": [
    "n,m = 7,7\n",
    "words = ['apple', 'mad', 'cat', 'Love', 'laptop', 'song'] \n",
    "word_vowels = [[set() for i in range(n)] for j in range(m)]\n",
    "for word in words:\n",
    "    l = len(word)\n",
    "    v =len([vowel for vowel in word if vowel in \"aeiou\"])\n",
    "    word_vowels[l][v].add(word)\n",
    "print(word_vowels)"
   ]
  },
  {
   "cell_type": "markdown",
   "metadata": {},
   "source": [
    "№14. Write a function novel10(text) that prints any word that appeared in the last 10% of a text that had not been encountered earlier."
   ]
  },
  {
   "cell_type": "code",
   "execution_count": 400,
   "metadata": {
    "scrolled": true
   },
   "outputs": [
    {
     "name": "stdout",
     "output_type": "stream",
     "text": [
      "742\n",
      "U\n",
      "K\n",
      "G\n",
      "1\n",
      "9\n",
      "8\n",
      "2\n",
      "M\n",
      "M\n"
     ]
    }
   ],
   "source": [
    "x = open(r'C:\\Users\\Elena\\Desktop\\nltk\\news.txt').read()\n",
    "w_len = len(x.split())\n",
    "print(w_len)\n",
    "for word in x[:int(0.9 * w_len)]:\n",
    "    if word not in x[int(0.9 * w_len):]:\n",
    "        print(word)\n"
   ]
  },
  {
   "cell_type": "markdown",
   "metadata": {},
   "source": [
    "№15. Write a program that takes a sentence expressed as a single string, splits it and counts up the words. Get it to print out each word and the word's frequency, one per line, in alphabetical order."
   ]
  },
  {
   "cell_type": "code",
   "execution_count": 347,
   "metadata": {
    "scrolled": false
   },
   "outputs": [
    {
     "name": "stdout",
     "output_type": "stream",
     "text": [
      "combine: 1; comprehension: 1; knowledge: 1; let's: 1; list: 1; of: 1; our: 3; sequence: 1; three: 1; together: 1; types,: 1; with: 2; "
     ]
    }
   ],
   "source": [
    "sent = \"Let's combine our knowledge of our three sequence types, together with with our list comprehension\"\n",
    "def word_freq(sent):\n",
    "    sent = sent.split()\n",
    "    fdist = nltk.FreqDist(w.lower() for w in sent)\n",
    "    for key in sorted(fdist):\n",
    "        print(key + ':', fdist[key], end='; ')\n",
    "word_freq(sent)"
   ]
  },
  {
   "cell_type": "markdown",
   "metadata": {},
   "source": [
    "№17. Write a function shorten(text, n) to process a text, omitting the n most frequently occurring words of the text. How readable is it?"
   ]
  },
  {
   "cell_type": "code",
   "execution_count": 429,
   "metadata": {},
   "outputs": [
    {
     "name": "stdout",
     "output_type": "stream",
     "text": [
      "[('a', 3), ('it', 2), ('and', 2)]\n",
      "36\n",
      "29\n",
      "['', '', '', '', '', '', '', '', '', '', '', '', '', '', '', '', '', '', '', '', '', '', '', '', '', '', '', '', '']\n"
     ]
    }
   ],
   "source": [
    "def shorten(text, n):\n",
    "    text = text.split()\n",
    "    most_freq = nltk.FreqDist(w.lower() for w in text).most_common(n)\n",
    "    print(most_freq)\n",
    "    print(len(text))\n",
    "    # return [w for w in text if w not in most_freq]\n",
    "    \n",
    "    fd = [key for key, value in most_freq]\n",
    "    w_omt = [w.replace(w, '') for w in text if w not in fd]\n",
    "    print(len(w_omt))\n",
    "    print(w_omt) # print(''.join(w_omt))\n",
    "    \n",
    "text = \"Write a program that takes a sentence expressed as a single string, splits it and counts up the words. Get it to print out each word and the word's frequency, one per line, in alphabetical order\"\n",
    "shorten(text, 3)\n"
   ]
  },
  {
   "cell_type": "markdown",
   "metadata": {},
   "source": [
    "№18. Write code to print out an index for a lexicon, allowing someone to look up words according to their meanings (or pronunciations; whatever properties are contained in lexical entries)."
   ]
  },
  {
   "cell_type": "markdown",
   "metadata": {},
   "source": [
    "№19 Write a list comprehension that sorts a list of WordNet synsets for proximity to a given synset. For example, given the synsets minke_whale.n.01, orca.n.01, novel.n.01, and tortoise.n.01, sort them according to their shortest_path_distance() from right_whale.n.01."
   ]
  },
  {
   "cell_type": "markdown",
   "metadata": {},
   "source": [
    "№20 Write a function that takes a list of words (containing duplicates) and returns a list of words (with no duplicates) sorted by decreasing frequency. E.g., if the input list contained 10 instances of the word table and 9 instances of the word chair,\n",
    "then table would appear before chair in the output list."
   ]
  },
  {
   "cell_type": "code",
   "execution_count": 477,
   "metadata": {
    "scrolled": true
   },
   "outputs": [
    {
     "data": {
      "text/plain": [
       "['our',\n",
       " 'combine',\n",
       " 'list',\n",
       " 'comprehension',\n",
       " 'sequence',\n",
       " 'with',\n",
       " 'three',\n",
       " 'together',\n",
       " 'types,',\n",
       " 'of',\n",
       " 'knowledge',\n",
       " \"Let's\"]"
      ]
     },
     "execution_count": 477,
     "metadata": {},
     "output_type": "execute_result"
    }
   ],
   "source": [
    "def word_freq(sent):\n",
    "    sent = set(sent.split())\n",
    "    fdist = nltk.FreqDist(w.lower() for w in sent)\n",
    "    return sorted(sent, key=lambda x:fdist[x], reverse=True)\n",
    "\n",
    "sent = \"Let's combine combine our knowledge of our three sequence types, together with with our three list comprehension\"\n",
    "word_freq(sent)"
   ]
  },
  {
   "cell_type": "markdown",
   "metadata": {},
   "source": [
    "№21. Write a function that takes a text and a vocabulary as its arguments and returns the set of words that appear in the text but not in the vocabulary. Both arguments can be represented as lists of strings. Can you do this in a single line, using set.difference() ?"
   ]
  },
  {
   "cell_type": "code",
   "execution_count": 445,
   "metadata": {},
   "outputs": [
    {
     "data": {
      "text/plain": [
       "{'chat', 'messaging', 'sessions'}"
      ]
     },
     "execution_count": 445,
     "metadata": {},
     "output_type": "execute_result"
    }
   ],
   "source": [
    "def diff(text, vocab):\n",
    "    return set(text).difference(vocab)\n",
    "text = 'There is also a corpus of instant messaging chat sessions'.split()\n",
    "vocab = 'There is also a corpus of instant'.split()\n",
    "diff(text, vocab)"
   ]
  },
  {
   "cell_type": "markdown",
   "metadata": {},
   "source": [
    "№22. Import the itemgetter() function from the operator module in Python's standard library (i.e. from operator import itemgetter ). Create a list words containing several words. Now try calling: sorted(words, key=itemgetter(1)) , and sorted(words, key=itemgetter(-1)) . Explain what itemgetter() is doing."
   ]
  },
  {
   "cell_type": "code",
   "execution_count": 476,
   "metadata": {
    "scrolled": true
   },
   "outputs": [
    {
     "name": "stdout",
     "output_type": "stream",
     "text": [
      "['the', 'in', 'module', 'operator', 'from', 'function', 'Python']\n",
      "['the', 'module', 'from', 'function', 'in', 'Python', 'operator']\n"
     ]
    }
   ],
   "source": [
    "from operator import itemgetter\n",
    "words = 'function from the operator module in Python'.split()\n",
    "print(sorted(words, key=itemgetter(1)))\n",
    "print(sorted(words, key=itemgetter(-1)))"
   ]
  },
  {
   "cell_type": "markdown",
   "metadata": {},
   "source": [
    "sorted(words, key=itemgetter(1)) # sort according to the second character of each word\n",
    "sorted(words, key=itemgetter(-1)) # sort according to the last character of each word"
   ]
  },
  {
   "cell_type": "markdown",
   "metadata": {},
   "source": [
    "№23. Write a recursive function lookup(trie, key) that looks up a key in a trie, and returns the value it finds. Extend the function to return a word when it is uniquely determined by its prefix (e.g. vanguard is the only word that starts with vang- , so lookup(trie, 'vang') should return the same thing as lookup(trie, 'vanguard')) .\n",
    "\n",
    "A recursive function is a function that calls itself during its execution.\n",
    " This enables the function to repeat itself several times, outputting the result and the end of each iteration."
   ]
  }
 ],
 "metadata": {
  "kernelspec": {
   "display_name": "Python 3",
   "language": "python",
   "name": "python3"
  },
  "language_info": {
   "codemirror_mode": {
    "name": "ipython",
    "version": 3
   },
   "file_extension": ".py",
   "mimetype": "text/x-python",
   "name": "python",
   "nbconvert_exporter": "python",
   "pygments_lexer": "ipython3",
   "version": "3.8.3"
  }
 },
 "nbformat": 4,
 "nbformat_minor": 4
}
